{
 "cells": [
  {
   "cell_type": "markdown",
   "metadata": {
    "id": "A6MzyST0NCpc"
   },
   "source": [
    "# Making the necessary imports"
   ]
  },
  {
   "cell_type": "code",
   "execution_count": 12,
   "metadata": {
    "id": "3cs2L5UTUZmj"
   },
   "outputs": [],
   "source": [
    "import numpy as np\n",
    "import pandas as pd\n",
    "from numpy.random import choice\n",
    "import matplotlib.pyplot as plt\n",
    "%matplotlib inline\n",
    "import seaborn as sns\n",
    "import pickle\n",
    "import os\n",
    "from sklearn.preprocessing import MinMaxScaler\n",
    "from sklearn.model_selection import train_test_split\n",
    "from sklearn.model_selection import cross_val_score\n",
    "from sklearn.metrics import accuracy_score, recall_score, roc_auc_score, confusion_matrix\n",
    "from sklearn.model_selection import GridSearchCV\n",
    "from collections import defaultdict\n"
   ]
  },
  {
   "cell_type": "markdown",
   "metadata": {},
   "source": [
    "# Loading the Dataset"
   ]
  },
  {
   "cell_type": "code",
   "execution_count": null,
   "metadata": {},
   "outputs": [],
   "source": [
    "df = pd.read_csv(os.path.join(os.getcwd(), 'kerala.csv'))"
   ]
  },
  {
   "cell_type": "markdown",
   "metadata": {
    "id": "WM7r2A_UUfBD"
   },
   "source": [
    "# Gaining some instights about the dataset"
   ]
  },
  {
   "cell_type": "code",
   "execution_count": 14,
   "metadata": {
    "colab": {
     "base_uri": "https://localhost:8080/",
     "height": 206
    },
    "id": "oKO_LuzoM-p-",
    "outputId": "be408b6f-5637-4d75-c927-f08dec02231b"
   },
   "outputs": [
    {
     "data": {
      "text/html": [
       "<div>\n",
       "<style scoped>\n",
       "    .dataframe tbody tr th:only-of-type {\n",
       "        vertical-align: middle;\n",
       "    }\n",
       "\n",
       "    .dataframe tbody tr th {\n",
       "        vertical-align: top;\n",
       "    }\n",
       "\n",
       "    .dataframe thead th {\n",
       "        text-align: right;\n",
       "    }\n",
       "</style>\n",
       "<table border=\"1\" class=\"dataframe\">\n",
       "  <thead>\n",
       "    <tr style=\"text-align: right;\">\n",
       "      <th></th>\n",
       "      <th>SUBDIVISION</th>\n",
       "      <th>YEAR</th>\n",
       "      <th>JAN</th>\n",
       "      <th>FEB</th>\n",
       "      <th>MAR</th>\n",
       "      <th>APR</th>\n",
       "      <th>MAY</th>\n",
       "      <th>JUN</th>\n",
       "      <th>JUL</th>\n",
       "      <th>AUG</th>\n",
       "      <th>SEP</th>\n",
       "      <th>OCT</th>\n",
       "      <th>NOV</th>\n",
       "      <th>DEC</th>\n",
       "      <th>ANNUAL RAINFALL</th>\n",
       "      <th>FLOODS</th>\n",
       "    </tr>\n",
       "  </thead>\n",
       "  <tbody>\n",
       "    <tr>\n",
       "      <th>0</th>\n",
       "      <td>KERALA</td>\n",
       "      <td>1901</td>\n",
       "      <td>28.7</td>\n",
       "      <td>44.7</td>\n",
       "      <td>51.6</td>\n",
       "      <td>160.0</td>\n",
       "      <td>174.7</td>\n",
       "      <td>824.6</td>\n",
       "      <td>743.0</td>\n",
       "      <td>357.5</td>\n",
       "      <td>197.7</td>\n",
       "      <td>266.9</td>\n",
       "      <td>350.8</td>\n",
       "      <td>48.4</td>\n",
       "      <td>3248.6</td>\n",
       "      <td>YES</td>\n",
       "    </tr>\n",
       "    <tr>\n",
       "      <th>1</th>\n",
       "      <td>KERALA</td>\n",
       "      <td>1902</td>\n",
       "      <td>6.7</td>\n",
       "      <td>2.6</td>\n",
       "      <td>57.3</td>\n",
       "      <td>83.9</td>\n",
       "      <td>134.5</td>\n",
       "      <td>390.9</td>\n",
       "      <td>1205.0</td>\n",
       "      <td>315.8</td>\n",
       "      <td>491.6</td>\n",
       "      <td>358.4</td>\n",
       "      <td>158.3</td>\n",
       "      <td>121.5</td>\n",
       "      <td>3326.6</td>\n",
       "      <td>YES</td>\n",
       "    </tr>\n",
       "    <tr>\n",
       "      <th>2</th>\n",
       "      <td>KERALA</td>\n",
       "      <td>1903</td>\n",
       "      <td>3.2</td>\n",
       "      <td>18.6</td>\n",
       "      <td>3.1</td>\n",
       "      <td>83.6</td>\n",
       "      <td>249.7</td>\n",
       "      <td>558.6</td>\n",
       "      <td>1022.5</td>\n",
       "      <td>420.2</td>\n",
       "      <td>341.8</td>\n",
       "      <td>354.1</td>\n",
       "      <td>157.0</td>\n",
       "      <td>59.0</td>\n",
       "      <td>3271.2</td>\n",
       "      <td>YES</td>\n",
       "    </tr>\n",
       "    <tr>\n",
       "      <th>3</th>\n",
       "      <td>KERALA</td>\n",
       "      <td>1904</td>\n",
       "      <td>23.7</td>\n",
       "      <td>3.0</td>\n",
       "      <td>32.2</td>\n",
       "      <td>71.5</td>\n",
       "      <td>235.7</td>\n",
       "      <td>1098.2</td>\n",
       "      <td>725.5</td>\n",
       "      <td>351.8</td>\n",
       "      <td>222.7</td>\n",
       "      <td>328.1</td>\n",
       "      <td>33.9</td>\n",
       "      <td>3.3</td>\n",
       "      <td>3129.7</td>\n",
       "      <td>YES</td>\n",
       "    </tr>\n",
       "    <tr>\n",
       "      <th>4</th>\n",
       "      <td>KERALA</td>\n",
       "      <td>1905</td>\n",
       "      <td>1.2</td>\n",
       "      <td>22.3</td>\n",
       "      <td>9.4</td>\n",
       "      <td>105.9</td>\n",
       "      <td>263.3</td>\n",
       "      <td>850.2</td>\n",
       "      <td>520.5</td>\n",
       "      <td>293.6</td>\n",
       "      <td>217.2</td>\n",
       "      <td>383.5</td>\n",
       "      <td>74.4</td>\n",
       "      <td>0.2</td>\n",
       "      <td>2741.6</td>\n",
       "      <td>NO</td>\n",
       "    </tr>\n",
       "  </tbody>\n",
       "</table>\n",
       "</div>"
      ],
      "text/plain": [
       "  SUBDIVISION  YEAR   JAN   FEB   MAR    APR    MAY     JUN     JUL    AUG  \\\n",
       "0      KERALA  1901  28.7  44.7  51.6  160.0  174.7   824.6   743.0  357.5   \n",
       "1      KERALA  1902   6.7   2.6  57.3   83.9  134.5   390.9  1205.0  315.8   \n",
       "2      KERALA  1903   3.2  18.6   3.1   83.6  249.7   558.6  1022.5  420.2   \n",
       "3      KERALA  1904  23.7   3.0  32.2   71.5  235.7  1098.2   725.5  351.8   \n",
       "4      KERALA  1905   1.2  22.3   9.4  105.9  263.3   850.2   520.5  293.6   \n",
       "\n",
       "     SEP    OCT    NOV    DEC   ANNUAL RAINFALL FLOODS  \n",
       "0  197.7  266.9  350.8   48.4            3248.6    YES  \n",
       "1  491.6  358.4  158.3  121.5            3326.6    YES  \n",
       "2  341.8  354.1  157.0   59.0            3271.2    YES  \n",
       "3  222.7  328.1   33.9    3.3            3129.7    YES  \n",
       "4  217.2  383.5   74.4    0.2            2741.6     NO  "
      ]
     },
     "execution_count": 14,
     "metadata": {},
     "output_type": "execute_result"
    }
   ],
   "source": [
    "df.head()"
   ]
  },
  {
   "cell_type": "code",
   "execution_count": 15,
   "metadata": {
    "colab": {
     "base_uri": "https://localhost:8080/"
    },
    "id": "X1a1IVlhSOIJ",
    "outputId": "caff1aee-a2b3-4087-849c-5f0ea71626e0"
   },
   "outputs": [
    {
     "name": "stdout",
     "output_type": "stream",
     "text": [
      "<class 'pandas.core.frame.DataFrame'>\n",
      "RangeIndex: 118 entries, 0 to 117\n",
      "Data columns (total 16 columns):\n",
      " #   Column            Non-Null Count  Dtype  \n",
      "---  ------            --------------  -----  \n",
      " 0   SUBDIVISION       118 non-null    object \n",
      " 1   YEAR              118 non-null    int64  \n",
      " 2   JAN               118 non-null    float64\n",
      " 3   FEB               118 non-null    float64\n",
      " 4   MAR               118 non-null    float64\n",
      " 5   APR               118 non-null    float64\n",
      " 6   MAY               118 non-null    float64\n",
      " 7   JUN               118 non-null    float64\n",
      " 8   JUL               118 non-null    float64\n",
      " 9   AUG               118 non-null    float64\n",
      " 10  SEP               118 non-null    float64\n",
      " 11  OCT               118 non-null    float64\n",
      " 12  NOV               118 non-null    float64\n",
      " 13  DEC               118 non-null    float64\n",
      " 14   ANNUAL RAINFALL  118 non-null    float64\n",
      " 15  FLOODS            118 non-null    object \n",
      "dtypes: float64(13), int64(1), object(2)\n",
      "memory usage: 14.9+ KB\n"
     ]
    }
   ],
   "source": [
    "df.info()"
   ]
  },
  {
   "cell_type": "code",
   "execution_count": 16,
   "metadata": {
    "id": "LsGDQuYb_sWR"
   },
   "outputs": [],
   "source": [
    "df.columns = list(map(lambda x: x.strip(), df.columns))"
   ]
  },
  {
   "cell_type": "code",
   "execution_count": 17,
   "metadata": {
    "colab": {
     "base_uri": "https://localhost:8080/"
    },
    "id": "ujII4mNhUmnZ",
    "outputId": "fc031f0c-820d-4399-9abc-78f85c6977ce"
   },
   "outputs": [
    {
     "data": {
      "text/plain": [
       "Index(['SUBDIVISION', 'YEAR', 'JAN', 'FEB', 'MAR', 'APR', 'MAY', 'JUN', 'JUL',\n",
       "       'AUG', 'SEP', 'OCT', 'NOV', 'DEC', 'ANNUAL RAINFALL', 'FLOODS'],\n",
       "      dtype='object')"
      ]
     },
     "execution_count": 17,
     "metadata": {},
     "output_type": "execute_result"
    }
   ],
   "source": [
    "df.columns"
   ]
  },
  {
   "cell_type": "code",
   "execution_count": 18,
   "metadata": {
    "colab": {
     "base_uri": "https://localhost:8080/"
    },
    "id": "7ArIPwx-daqn",
    "outputId": "b0124d04-b2a0-4ef8-bc07-4d3955a42cb9"
   },
   "outputs": [
    {
     "data": {
      "text/plain": [
       "array(['KERALA', 'KERALA '], dtype=object)"
      ]
     },
     "execution_count": 18,
     "metadata": {},
     "output_type": "execute_result"
    }
   ],
   "source": [
    "df[\"SUBDIVISION\"].unique()"
   ]
  },
  {
   "cell_type": "code",
   "execution_count": 19,
   "metadata": {
    "id": "95Qpe6uvc5BZ"
   },
   "outputs": [],
   "source": [
    "df[\"SUBDIVISION\"] = df[\"SUBDIVISION\"].replace(\"KERALA \", \"KERALA\")"
   ]
  },
  {
   "cell_type": "code",
   "execution_count": 20,
   "metadata": {
    "colab": {
     "base_uri": "https://localhost:8080/"
    },
    "id": "Kf9MNnTGWC2x",
    "outputId": "62f45998-b86e-4890-efc1-c43e1a6864fc"
   },
   "outputs": [
    {
     "data": {
      "text/plain": [
       "array(['KERALA'], dtype=object)"
      ]
     },
     "execution_count": 20,
     "metadata": {},
     "output_type": "execute_result"
    }
   ],
   "source": [
    "df[\"SUBDIVISION\"].unique()"
   ]
  },
  {
   "cell_type": "markdown",
   "metadata": {
    "id": "V-TMS6KMmZAl"
   },
   "source": [
    "# Checking for null values"
   ]
  },
  {
   "cell_type": "code",
   "execution_count": 21,
   "metadata": {
    "colab": {
     "base_uri": "https://localhost:8080/"
    },
    "id": "5_o5yjvKU9Qy",
    "outputId": "8e85f2b0-ed28-489f-f1e7-11a5638100a3"
   },
   "outputs": [
    {
     "data": {
      "text/plain": [
       "SUBDIVISION        0\n",
       "YEAR               0\n",
       "JAN                0\n",
       "FEB                0\n",
       "MAR                0\n",
       "APR                0\n",
       "MAY                0\n",
       "JUN                0\n",
       "JUL                0\n",
       "AUG                0\n",
       "SEP                0\n",
       "OCT                0\n",
       "NOV                0\n",
       "DEC                0\n",
       "ANNUAL RAINFALL    0\n",
       "FLOODS             0\n",
       "dtype: int64"
      ]
     },
     "execution_count": 21,
     "metadata": {},
     "output_type": "execute_result"
    }
   ],
   "source": [
    "df.isna().sum()"
   ]
  },
  {
   "cell_type": "markdown",
   "metadata": {
    "id": "qtJOYDehpG0v"
   },
   "source": [
    "# Converting the target variable (FLOODS) to numerical"
   ]
  },
  {
   "cell_type": "code",
   "execution_count": 22,
   "metadata": {
    "colab": {
     "base_uri": "https://localhost:8080/"
    },
    "id": "uzOVc1JEV8Lv",
    "outputId": "33eb0b78-4885-4cab-c449-a1e66e7962b4"
   },
   "outputs": [
    {
     "data": {
      "text/plain": [
       "0      YES\n",
       "1      YES\n",
       "2      YES\n",
       "3      YES\n",
       "4       NO\n",
       "      ... \n",
       "113    YES\n",
       "114     NO\n",
       "115     NO\n",
       "116     NO\n",
       "117    YES\n",
       "Name: FLOODS, Length: 118, dtype: object"
      ]
     },
     "execution_count": 22,
     "metadata": {},
     "output_type": "execute_result"
    }
   ],
   "source": [
    "df[\"FLOODS\"]"
   ]
  },
  {
   "cell_type": "code",
   "execution_count": 23,
   "metadata": {
    "id": "RgGySsmspSmC"
   },
   "outputs": [],
   "source": [
    "df[\"FLOODS\"] = pd.Categorical(df[\"FLOODS\"]).codes"
   ]
  },
  {
   "cell_type": "code",
   "execution_count": 24,
   "metadata": {
    "colab": {
     "base_uri": "https://localhost:8080/"
    },
    "id": "ZhKMtNPnpefK",
    "outputId": "a692c50c-3ce0-482c-98a1-f73afc03c6ba"
   },
   "outputs": [
    {
     "data": {
      "text/plain": [
       "0      1\n",
       "1      1\n",
       "2      1\n",
       "3      1\n",
       "4      0\n",
       "      ..\n",
       "113    1\n",
       "114    0\n",
       "115    0\n",
       "116    0\n",
       "117    1\n",
       "Name: FLOODS, Length: 118, dtype: int8"
      ]
     },
     "execution_count": 24,
     "metadata": {},
     "output_type": "execute_result"
    }
   ],
   "source": [
    "df[\"FLOODS\"]"
   ]
  },
  {
   "cell_type": "markdown",
   "metadata": {
    "id": "dCfWYvHuyz3H"
   },
   "source": [
    "# Seperating the features (input) from the target (output)"
   ]
  },
  {
   "cell_type": "markdown",
   "metadata": {
    "id": "imMG0YSo0Mig"
   },
   "source": [
    "#X - features\n",
    ">We are dropping the SUBDIVISION and YEAR columns because they have no effect in making predictions. Instead, they are only going to be noise to the model leading to low accuracy. Notice that we also exclude the FLOODS column since it is the target variable.\n",
    "#y - target\n",
    "> This is the target (output) i.e., what the model will be predicting"
   ]
  },
  {
   "cell_type": "code",
   "execution_count": 25,
   "metadata": {
    "id": "V40jdfO6phct"
   },
   "outputs": [],
   "source": [
    "X = df.drop([\"FLOODS\", \"SUBDIVISION\", \"YEAR\", \"ANNUAL RAINFALL\"], axis=1)\n",
    "y = df[\"FLOODS\"]"
   ]
  },
  {
   "cell_type": "code",
   "execution_count": 26,
   "metadata": {
    "colab": {
     "base_uri": "https://localhost:8080/"
    },
    "id": "hqK7gJag_RWC",
    "outputId": "a3147cba-38ee-4432-fa60-c039a773674e"
   },
   "outputs": [
    {
     "data": {
      "text/plain": [
       "Index(['JAN', 'FEB', 'MAR', 'APR', 'MAY', 'JUN', 'JUL', 'AUG', 'SEP', 'OCT',\n",
       "       'NOV', 'DEC'],\n",
       "      dtype='object')"
      ]
     },
     "execution_count": 26,
     "metadata": {},
     "output_type": "execute_result"
    }
   ],
   "source": [
    "X.columns"
   ]
  },
  {
   "cell_type": "code",
   "execution_count": 27,
   "metadata": {
    "colab": {
     "base_uri": "https://localhost:8080/",
     "height": 206
    },
    "id": "QE6jdrthzH8c",
    "outputId": "a2ef18d6-d7e3-4f82-a082-3d4b5cd49f0e"
   },
   "outputs": [
    {
     "data": {
      "text/html": [
       "<div>\n",
       "<style scoped>\n",
       "    .dataframe tbody tr th:only-of-type {\n",
       "        vertical-align: middle;\n",
       "    }\n",
       "\n",
       "    .dataframe tbody tr th {\n",
       "        vertical-align: top;\n",
       "    }\n",
       "\n",
       "    .dataframe thead th {\n",
       "        text-align: right;\n",
       "    }\n",
       "</style>\n",
       "<table border=\"1\" class=\"dataframe\">\n",
       "  <thead>\n",
       "    <tr style=\"text-align: right;\">\n",
       "      <th></th>\n",
       "      <th>JAN</th>\n",
       "      <th>FEB</th>\n",
       "      <th>MAR</th>\n",
       "      <th>APR</th>\n",
       "      <th>MAY</th>\n",
       "      <th>JUN</th>\n",
       "      <th>JUL</th>\n",
       "      <th>AUG</th>\n",
       "      <th>SEP</th>\n",
       "      <th>OCT</th>\n",
       "      <th>NOV</th>\n",
       "      <th>DEC</th>\n",
       "    </tr>\n",
       "  </thead>\n",
       "  <tbody>\n",
       "    <tr>\n",
       "      <th>0</th>\n",
       "      <td>28.7</td>\n",
       "      <td>44.7</td>\n",
       "      <td>51.6</td>\n",
       "      <td>160.0</td>\n",
       "      <td>174.7</td>\n",
       "      <td>824.6</td>\n",
       "      <td>743.0</td>\n",
       "      <td>357.5</td>\n",
       "      <td>197.7</td>\n",
       "      <td>266.9</td>\n",
       "      <td>350.8</td>\n",
       "      <td>48.4</td>\n",
       "    </tr>\n",
       "    <tr>\n",
       "      <th>1</th>\n",
       "      <td>6.7</td>\n",
       "      <td>2.6</td>\n",
       "      <td>57.3</td>\n",
       "      <td>83.9</td>\n",
       "      <td>134.5</td>\n",
       "      <td>390.9</td>\n",
       "      <td>1205.0</td>\n",
       "      <td>315.8</td>\n",
       "      <td>491.6</td>\n",
       "      <td>358.4</td>\n",
       "      <td>158.3</td>\n",
       "      <td>121.5</td>\n",
       "    </tr>\n",
       "    <tr>\n",
       "      <th>2</th>\n",
       "      <td>3.2</td>\n",
       "      <td>18.6</td>\n",
       "      <td>3.1</td>\n",
       "      <td>83.6</td>\n",
       "      <td>249.7</td>\n",
       "      <td>558.6</td>\n",
       "      <td>1022.5</td>\n",
       "      <td>420.2</td>\n",
       "      <td>341.8</td>\n",
       "      <td>354.1</td>\n",
       "      <td>157.0</td>\n",
       "      <td>59.0</td>\n",
       "    </tr>\n",
       "    <tr>\n",
       "      <th>3</th>\n",
       "      <td>23.7</td>\n",
       "      <td>3.0</td>\n",
       "      <td>32.2</td>\n",
       "      <td>71.5</td>\n",
       "      <td>235.7</td>\n",
       "      <td>1098.2</td>\n",
       "      <td>725.5</td>\n",
       "      <td>351.8</td>\n",
       "      <td>222.7</td>\n",
       "      <td>328.1</td>\n",
       "      <td>33.9</td>\n",
       "      <td>3.3</td>\n",
       "    </tr>\n",
       "    <tr>\n",
       "      <th>4</th>\n",
       "      <td>1.2</td>\n",
       "      <td>22.3</td>\n",
       "      <td>9.4</td>\n",
       "      <td>105.9</td>\n",
       "      <td>263.3</td>\n",
       "      <td>850.2</td>\n",
       "      <td>520.5</td>\n",
       "      <td>293.6</td>\n",
       "      <td>217.2</td>\n",
       "      <td>383.5</td>\n",
       "      <td>74.4</td>\n",
       "      <td>0.2</td>\n",
       "    </tr>\n",
       "  </tbody>\n",
       "</table>\n",
       "</div>"
      ],
      "text/plain": [
       "    JAN   FEB   MAR    APR    MAY     JUN     JUL    AUG    SEP    OCT    NOV  \\\n",
       "0  28.7  44.7  51.6  160.0  174.7   824.6   743.0  357.5  197.7  266.9  350.8   \n",
       "1   6.7   2.6  57.3   83.9  134.5   390.9  1205.0  315.8  491.6  358.4  158.3   \n",
       "2   3.2  18.6   3.1   83.6  249.7   558.6  1022.5  420.2  341.8  354.1  157.0   \n",
       "3  23.7   3.0  32.2   71.5  235.7  1098.2   725.5  351.8  222.7  328.1   33.9   \n",
       "4   1.2  22.3   9.4  105.9  263.3   850.2   520.5  293.6  217.2  383.5   74.4   \n",
       "\n",
       "     DEC  \n",
       "0   48.4  \n",
       "1  121.5  \n",
       "2   59.0  \n",
       "3    3.3  \n",
       "4    0.2  "
      ]
     },
     "execution_count": 27,
     "metadata": {},
     "output_type": "execute_result"
    }
   ],
   "source": [
    "X.head()"
   ]
  },
  {
   "cell_type": "code",
   "execution_count": 28,
   "metadata": {
    "colab": {
     "base_uri": "https://localhost:8080/"
    },
    "id": "oPmzoTzszPP7",
    "outputId": "3c2d8e3e-3eb5-427e-be51-fb09524a91b8"
   },
   "outputs": [
    {
     "data": {
      "text/plain": [
       "0    1\n",
       "1    1\n",
       "2    1\n",
       "3    1\n",
       "4    0\n",
       "Name: FLOODS, dtype: int8"
      ]
     },
     "execution_count": 28,
     "metadata": {},
     "output_type": "execute_result"
    }
   ],
   "source": [
    "y.head()"
   ]
  },
  {
   "cell_type": "markdown",
   "metadata": {
    "id": "eMgHJk4J1YIG"
   },
   "source": [
    "# Visualizing the rainfall amounts for different months selected at random"
   ]
  },
  {
   "cell_type": "code",
   "execution_count": 29,
   "metadata": {
    "id": "KC9Z594K1IUa"
   },
   "outputs": [],
   "source": [
    "columns = list(X.columns)\n",
    "random_columns = choice(columns, 4, replace=False)"
   ]
  },
  {
   "cell_type": "code",
   "execution_count": 30,
   "metadata": {
    "colab": {
     "base_uri": "https://localhost:8080/",
     "height": 452
    },
    "id": "sE75fN061txA",
    "outputId": "2d86514d-0b2f-4447-955e-c3ead569b035"
   },
   "outputs": [
    {
     "data": {
      "image/png": "[encoded data removed]",
      "text/plain": [
       "<Figure size 640x480 with 4 Axes>"
      ]
     },
     "metadata": {},
     "output_type": "display_data"
    }
   ],
   "source": [
    "X[random_columns].hist()\n",
    "plt.show()"
   ]
  },
  {
   "cell_type": "markdown",
   "metadata": {
    "id": "-FHUd8dLNJzL"
   },
   "source": [
    "# Global variable to specify the directory to save the scaler object and best model"
   ]
  },
  {
   "cell_type": "code",
   "execution_count": 72,
   "metadata": {
    "id": "4yzZ-FBCNJGR"
   },
   "outputs": [],
   "source": [
    "save_dir = \"/content/gdrive/MyDrive/Floods_Prediction_Best_Model\"\n",
    "\n",
    "if not os.path.exists(save_dir):\n",
    "    os.mkdir(save_dir)"
   ]
  },
  {
   "cell_type": "markdown",
   "metadata": {
    "id": "1UMWCLr-z5eG"
   },
   "source": [
    "# Standardizing the features to a scale of between 0 and 1"
   ]
  },
  {
   "cell_type": "code",
   "execution_count": 22,
   "metadata": {
    "id": "llAOfE14zTM-"
   },
   "outputs": [],
   "source": [
    "scaler = MinMaxScaler(feature_range=(0,1))"
   ]
  },
  {
   "cell_type": "code",
   "execution_count": 23,
   "metadata": {
    "id": "TsRqOi070Dva"
   },
   "outputs": [],
   "source": [
    "X_scaled = scaler.fit_transform(X.values)"
   ]
  },
  {
   "cell_type": "code",
   "execution_count": 24,
   "metadata": {
    "colab": {
     "base_uri": "https://localhost:8080/"
    },
    "id": "SoJM8vUH0Vqz",
    "outputId": "464ba3fb-6db7-4840-9120-bd23593263d3"
   },
   "outputs": [
    {
     "data": {
      "text/plain": [
       "array([0.34371257, 0.56582278, 0.23721787, 0.65317919, 0.17697695])"
      ]
     },
     "execution_count": 24,
     "metadata": {},
     "output_type": "execute_result"
    }
   ],
   "source": [
    "X_scaled[0,:5]"
   ]
  },
  {
   "cell_type": "markdown",
   "metadata": {
    "id": "KZzaez2VNUdy"
   },
   "source": [
    "# Saving the Scaler object"
   ]
  },
  {
   "cell_type": "code",
   "execution_count": 73,
   "metadata": {
    "id": "HIdKs2jbNTrm"
   },
   "outputs": [],
   "source": [
    "with open(os.path.join(save_dir, \"scaler.pkl\"), 'wb') as pickle_file:\n",
    "    pickle.dump(scaler, pickle_file)"
   ]
  },
  {
   "cell_type": "markdown",
   "metadata": {
    "id": "Z--8hy9SNi5F"
   },
   "source": [
    "# Loading the Scaler object"
   ]
  },
  {
   "cell_type": "code",
   "execution_count": 74,
   "metadata": {
    "id": "Bxlt-5uANiNx"
   },
   "outputs": [],
   "source": [
    "with open(os.path.join(save_dir, \"scaler.pkl\"), 'rb') as pickle_file:\n",
    "    loaded_scaler = pickle.load(pickle_file)"
   ]
  },
  {
   "cell_type": "markdown",
   "metadata": {
    "id": "yY-SRKMX1SG_"
   },
   "source": [
    "# Splitting the dataset into the train set and the test set"
   ]
  },
  {
   "cell_type": "code",
   "execution_count": 25,
   "metadata": {
    "id": "NcOqdcSK0l3j"
   },
   "outputs": [],
   "source": [
    "X_train, X_test, y_train, y_test = train_test_split(X_scaled, y, test_size=0.2)"
   ]
  },
  {
   "cell_type": "code",
   "execution_count": 26,
   "metadata": {
    "colab": {
     "base_uri": "https://localhost:8080/"
    },
    "id": "h2xg6p711pz1",
    "outputId": "f3aee04c-798d-4f59-b170-5ce8cb17fa37"
   },
   "outputs": [
    {
     "data": {
      "text/plain": [
       "array([[0.01317365, 0.19873418, 0.12989406, 0.39662072, 0.36912752,\n",
       "        0.44686044, 0.43105224, 0.04556257, 0.32962505, 0.73788546,\n",
       "        0.98832685, 0.03264095],\n",
       "       [0.10898204, 0.01139241, 0.12989406, 0.42996888, 0.23504523,\n",
       "        0.44475261, 0.21898455, 0.0962878 , 0.22414504, 0.23067681,\n",
       "        0.29991021, 0.76854599],\n",
       "       [0.00958084, 0.3835443 , 1.        , 0.42374389, 0.04056026,\n",
       "        0.30297315, 0.24841795, 0.13963779, 0.62978986, 0.55046055,\n",
       "        0.07153547, 0.08358061],\n",
       "       [0.03952096, 0.01898734, 0.28788577, 0.24855491, 0.20163408,\n",
       "        0.26780564, 0.55732156, 0.07432599, 0.58755665, 0.27372847,\n",
       "        0.72702784, 0.21810089],\n",
       "       [0.09461078, 0.14810127, 0.06909258, 0.61582926, 0.43463671,\n",
       "        0.61970268, 0.22023547, 0.11546341, 0.28244747, 0.57028434,\n",
       "        0.43909009, 0.04451039]])"
      ]
     },
     "execution_count": 26,
     "metadata": {},
     "output_type": "execute_result"
    }
   ],
   "source": [
    "X_train[:5]"
   ]
  },
  {
   "cell_type": "code",
   "execution_count": 27,
   "metadata": {
    "colab": {
     "base_uri": "https://localhost:8080/"
    },
    "id": "Xc_mD01o1zxi",
    "outputId": "c3de3fdc-ad92-48e7-9d24-a26a07288f5a"
   },
   "outputs": [
    {
     "data": {
      "text/plain": [
       "76     1\n",
       "64     0\n",
       "107    0\n",
       "108    0\n",
       "55     0\n",
       "Name: FLOODS, dtype: int8"
      ]
     },
     "execution_count": 27,
     "metadata": {},
     "output_type": "execute_result"
    }
   ],
   "source": [
    "y_train.head()"
   ]
  },
  {
   "cell_type": "markdown",
   "metadata": {
    "id": "9Ms9EgDPGvdq"
   },
   "source": [
    "# A utility function to print out the performance metrics of a model"
   ]
  },
  {
   "cell_type": "code",
   "execution_count": 28,
   "metadata": {
    "id": "WeR_9GxyG1P1"
   },
   "outputs": [],
   "source": [
    "global scores \n",
    "scores = defaultdict(dict)\n",
    "\n",
    "\n",
    "\n",
    "def performance_metrics(model):\n",
    "  model.fit(X_train, y_train)\n",
    "  cv_acc_score = cross_val_score(model, X_test, y_test, cv=3, scoring='accuracy', n_jobs=-1)\n",
    "  y_pred = model.predict(X_test)\n",
    "  scores[model.__class__.__name__] = {\"cv_score\": round(cv_acc_score.mean(), 4), \"acc_score\": round(accuracy_score(y_test,y_pred)*100, 4)}\n",
    "\n",
    "  print(f\"\\nModel: {model}\\n\")\n",
    "  print(\"*\"*80)\n",
    "  print(f\"Predicted values: {y_pred}\")\n",
    "  print(f\"Actual values: {np.array(y_test)}\")\n",
    "  print(\"*\"*80)\n",
    "\n",
    "  print(\"-\"*80)\n",
    "  print(f\"Cross Validation Mean Accuracy Score: {cv_acc_score.mean()}\")\n",
    "  print(f\"accuracy score: {accuracy_score(y_test,y_pred)*100}\")\n",
    "  print(f\"recall score: {recall_score(y_test,y_pred)*100}\")\n",
    "  print(f\"roc score: {roc_auc_score(y_test,y_pred)*100}\") \n",
    "  print(\"-\"*80)\n",
    "\n",
    "  print(f\"\\nConfusion Matrix\\n\")\n",
    "  cm = confusion_matrix(y_test, y_pred)\n",
    "  sns.heatmap(cm, annot=True)\n",
    "  plt.show()"
   ]
  },
  {
   "cell_type": "markdown",
   "metadata": {
    "id": "dkMut9tM27kb"
   },
   "source": [
    "# Prediction Algorithms\n",
    "<ol>\n",
    "  <li> Logistic Regression </li>\n",
    "  <li> Support Vector Machine </li>\n",
    "  <li> K-Nearest Neighbor </li>\n",
    "  <li> Decision Tree Classifier </li>\n",
    "  <li> Random Forest Classifier </li>\n",
    "</ol>\n",
    "\n"
   ]
  },
  {
   "cell_type": "markdown",
   "metadata": {
    "id": "fLC7uyq26gCX"
   },
   "source": [
    "# 1. Logistic Regression"
   ]
  },
  {
   "cell_type": "code",
   "execution_count": 29,
   "metadata": {
    "id": "6RDJvRo_12J6"
   },
   "outputs": [],
   "source": [
    "from sklearn.linear_model import LogisticRegression\n",
    "lr = LogisticRegression()"
   ]
  },
  {
   "cell_type": "markdown",
   "metadata": {
    "id": "9cER5eSdVxYo"
   },
   "source": [
    "> ## Hyper-parameter tuning"
   ]
  },
  {
   "cell_type": "code",
   "execution_count": 30,
   "metadata": {
    "id": "nz__BGxZVv8P"
   },
   "outputs": [],
   "source": [
    "params = {\n",
    "    \"solver\": [\"newton-cg\", \"lbfgs\", \"sag\", \"saga\"], \n",
    "    \"C\": [0.001, 0.01, 0.1, 1]\n",
    "    }\n",
    "grid_lr = GridSearchCV(estimator=lr, param_grid=params, scoring='accuracy', cv=3) \n",
    "grid_lr.fit(X_train, y_train)\n",
    "lr = grid_lr.best_estimator_"
   ]
  },
  {
   "cell_type": "markdown",
   "metadata": {
    "id": "f1gqqunIV8IZ"
   },
   "source": [
    "> ## Perfomance Metrics"
   ]
  },
  {
   "cell_type": "code",
   "execution_count": 31,
   "metadata": {
    "colab": {
     "base_uri": "https://localhost:8080/",
     "height": 713
    },
    "id": "kWsAF4tT17py",
    "outputId": "2d42b940-4364-4c61-ff0e-48fed93b4489"
   },
   "outputs": [
    {
     "name": "stdout",
     "output_type": "stream",
     "text": [
      "\n",
      "Model: LogisticRegression(C=1, solver='newton-cg')\n",
      "\n",
      "********************************************************************************\n",
      "Predicted values: [0 1 1 1 0 0 0 0 0 1 1 1 0 1 0 0 1 0 1 0 1 1 0 0]\n",
      "Actual values: [0 1 1 1 0 0 0 0 0 1 1 1 0 1 0 1 1 0 1 0 1 1 0 0]\n",
      "********************************************************************************\n",
      "--------------------------------------------------------------------------------\n",
      "Cross Validation Mean Accuracy Score: 0.7916666666666666\n",
      "accuracy score: 95.83333333333334\n",
      "recall score: 91.66666666666666\n",
      "roc score: 95.83333333333333\n",
      "--------------------------------------------------------------------------------\n",
      "\n",
      "Confusion Matrix\n",
      "\n"
     ]
    },
    {
     "data": {
      "image/png": "[encoded data removed]",
      "text/plain": [
       "<Figure size 640x480 with 2 Axes>"
      ]
     },
     "metadata": {},
     "output_type": "display_data"
    }
   ],
   "source": [
    "performance_metrics(lr)"
   ]
  },
  {
   "cell_type": "markdown",
   "metadata": {
    "id": "qfIVC0-KHAH9"
   },
   "source": [
    "# 2. Support Vector Machine"
   ]
  },
  {
   "cell_type": "code",
   "execution_count": 32,
   "metadata": {
    "id": "MQq_8NIYAknW"
   },
   "outputs": [],
   "source": [
    "from sklearn.svm import SVC\n",
    "svc = SVC()"
   ]
  },
  {
   "cell_type": "markdown",
   "metadata": {
    "id": "svojsAj8WyrN"
   },
   "source": [
    "> ## Hyper-parameters tuning"
   ]
  },
  {
   "cell_type": "code",
   "execution_count": 33,
   "metadata": {
    "id": "XvH9DigGWtL7"
   },
   "outputs": [],
   "source": [
    "params = {\n",
    "    \"kernel\": [\"linear\", \"poly\", \"rbf\"],\n",
    "    \"gamma\": [0.001, 0.01, 0.1, 1, 10, 100],\n",
    "    \"C\": [0.1, 1, 10, 100, 1000]\n",
    "    }\n",
    "grid_svc = GridSearchCV(estimator=svc, param_grid=params, scoring='accuracy', cv=3) \n",
    "grid_svc.fit(X_train, y_train)\n",
    "svc = grid_svc.best_estimator_"
   ]
  },
  {
   "cell_type": "markdown",
   "metadata": {
    "id": "Aek8urTBWLDs"
   },
   "source": [
    "> ## Perfomance Metrics"
   ]
  },
  {
   "cell_type": "code",
   "execution_count": 34,
   "metadata": {
    "colab": {
     "base_uri": "https://localhost:8080/",
     "height": 713
    },
    "id": "t8Nit24NWKW5",
    "outputId": "d4e6c30e-fc61-457e-f874-b7694b6f1379"
   },
   "outputs": [
    {
     "name": "stdout",
     "output_type": "stream",
     "text": [
      "\n",
      "Model: SVC(C=1000, gamma=0.001, kernel='linear')\n",
      "\n",
      "********************************************************************************\n",
      "Predicted values: [0 1 1 1 0 0 0 0 0 1 1 1 0 1 0 1 1 0 1 0 1 1 0 0]\n",
      "Actual values: [0 1 1 1 0 0 0 0 0 1 1 1 0 1 0 1 1 0 1 0 1 1 0 0]\n",
      "********************************************************************************\n",
      "--------------------------------------------------------------------------------\n",
      "Cross Validation Mean Accuracy Score: 0.7916666666666666\n",
      "accuracy score: 100.0\n",
      "recall score: 100.0\n",
      "roc score: 100.0\n",
      "--------------------------------------------------------------------------------\n",
      "\n",
      "Confusion Matrix\n",
      "\n"
     ]
    },
    {
     "data": {
      "image/png": "[encoded data removed]",
      "text/plain": [
       "<Figure size 640x480 with 2 Axes>"
      ]
     },
     "metadata": {},
     "output_type": "display_data"
    }
   ],
   "source": [
    "performance_metrics(svc)"
   ]
  },
  {
   "cell_type": "code",
   "execution_count": 34,
   "metadata": {
    "id": "xIhYjGZfKr1y"
   },
   "outputs": [],
   "source": [
    "\n"
   ]
  },
  {
   "cell_type": "markdown",
   "metadata": {
    "id": "AH1Y-T12Zc-D"
   },
   "source": [
    "# 3. K-Nearest Neighbor"
   ]
  },
  {
   "cell_type": "code",
   "execution_count": 35,
   "metadata": {
    "id": "FspQrAbuHyaR"
   },
   "outputs": [],
   "source": [
    "from sklearn.neighbors import KNeighborsClassifier\n",
    "knn = KNeighborsClassifier()"
   ]
  },
  {
   "cell_type": "markdown",
   "metadata": {
    "id": "gpFTLFw_bD9w"
   },
   "source": [
    "> ## Hyper-parameter tuning"
   ]
  },
  {
   "cell_type": "code",
   "execution_count": 36,
   "metadata": {
    "id": "En7eqfWHbJ0e"
   },
   "outputs": [],
   "source": [
    "params = {\n",
    "    \"n_neighbors\": [i for i in range(3, 10)],\n",
    "    \"weights\": [\"uniform\", \"distance\"]\n",
    "    }\n",
    "grid_knn = GridSearchCV(estimator=knn, param_grid=params, scoring='accuracy', cv=3) \n",
    "grid_knn.fit(X_train, y_train)\n",
    "knn = grid_knn.best_estimator_"
   ]
  },
  {
   "cell_type": "code",
   "execution_count": 37,
   "metadata": {
    "colab": {
     "base_uri": "https://localhost:8080/",
     "height": 713
    },
    "id": "_ERGA2TsHT0O",
    "outputId": "0458e600-f4c1-406f-c247-6cc6da1c1c1a"
   },
   "outputs": [
    {
     "name": "stdout",
     "output_type": "stream",
     "text": [
      "\n",
      "Model: KNeighborsClassifier(n_neighbors=4, weights='distance')\n",
      "\n",
      "********************************************************************************\n",
      "Predicted values: [0 1 1 0 1 0 0 0 0 1 1 0 0 1 0 1 1 0 1 1 1 1 0 0]\n",
      "Actual values: [0 1 1 1 0 0 0 0 0 1 1 1 0 1 0 1 1 0 1 0 1 1 0 0]\n",
      "********************************************************************************\n",
      "--------------------------------------------------------------------------------\n",
      "Cross Validation Mean Accuracy Score: 0.7916666666666666\n",
      "accuracy score: 83.33333333333334\n",
      "recall score: 83.33333333333334\n",
      "roc score: 83.33333333333334\n",
      "--------------------------------------------------------------------------------\n",
      "\n",
      "Confusion Matrix\n",
      "\n"
     ]
    },
    {
     "data": {
      "image/png": "[encoded data removed]",
      "text/plain": [
       "<Figure size 640x480 with 2 Axes>"
      ]
     },
     "metadata": {},
     "output_type": "display_data"
    }
   ],
   "source": [
    "performance_metrics(knn)"
   ]
  },
  {
   "cell_type": "code",
   "execution_count": 37,
   "metadata": {
    "id": "gPlHvfVzIJVl"
   },
   "outputs": [],
   "source": []
  },
  {
   "cell_type": "markdown",
   "metadata": {
    "id": "LnPXLhu8cxK7"
   },
   "source": [
    "# 4. Decision Tree Classifier "
   ]
  },
  {
   "cell_type": "code",
   "execution_count": 38,
   "metadata": {
    "id": "cF4lYE0OcwKZ"
   },
   "outputs": [],
   "source": [
    "from sklearn.tree import DecisionTreeClassifier\n",
    "dtc = DecisionTreeClassifier()"
   ]
  },
  {
   "cell_type": "markdown",
   "metadata": {
    "id": "hpjrDwMeeJNu"
   },
   "source": [
    "> ## Hyper-parameter tuning"
   ]
  },
  {
   "cell_type": "code",
   "execution_count": 39,
   "metadata": {
    "id": "yx6aKXnvdGF4"
   },
   "outputs": [],
   "source": [
    "params = {\n",
    "    \"criterion\": [\"gini\", \"entropy\"],\n",
    "    \"max_depth\": [i for i in range(1, len(X.columns))]\n",
    "}\n",
    "grid_dtc = GridSearchCV(estimator=dtc, param_grid=params, scoring='accuracy', cv=3) \n",
    "grid_dtc.fit(X_train, y_train)\n",
    "dtc = grid_dtc.best_estimator_"
   ]
  },
  {
   "cell_type": "markdown",
   "metadata": {
    "id": "MzuF6rhngkKH"
   },
   "source": [
    "> ## Performance metrics"
   ]
  },
  {
   "cell_type": "code",
   "execution_count": 40,
   "metadata": {
    "colab": {
     "base_uri": "https://localhost:8080/",
     "height": 713
    },
    "id": "WG1w_UUSetoR",
    "outputId": "d6e1aa88-8c51-4552-d970-67f406cfa22d"
   },
   "outputs": [
    {
     "name": "stdout",
     "output_type": "stream",
     "text": [
      "\n",
      "Model: DecisionTreeClassifier(criterion='entropy', max_depth=2)\n",
      "\n",
      "********************************************************************************\n",
      "Predicted values: [0 1 0 1 0 0 1 0 0 1 0 0 1 1 0 0 1 0 1 1 1 1 0 0]\n",
      "Actual values: [0 1 1 1 0 0 0 0 0 1 1 1 0 1 0 1 1 0 1 0 1 1 0 0]\n",
      "********************************************************************************\n",
      "--------------------------------------------------------------------------------\n",
      "Cross Validation Mean Accuracy Score: 0.75\n",
      "accuracy score: 70.83333333333334\n",
      "recall score: 66.66666666666666\n",
      "roc score: 70.83333333333334\n",
      "--------------------------------------------------------------------------------\n",
      "\n",
      "Confusion Matrix\n",
      "\n"
     ]
    },
    {
     "data": {
      "image/png": "[encoded data removed]",
      "text/plain": [
       "<Figure size 640x480 with 2 Axes>"
      ]
     },
     "metadata": {},
     "output_type": "display_data"
    }
   ],
   "source": [
    "performance_metrics(dtc)"
   ]
  },
  {
   "cell_type": "code",
   "execution_count": 40,
   "metadata": {
    "id": "JV_WjTLXewMa"
   },
   "outputs": [],
   "source": []
  },
  {
   "cell_type": "markdown",
   "metadata": {
    "id": "D4Cz_pVff0Ti"
   },
   "source": [
    "# 5. Random Forest Classifier "
   ]
  },
  {
   "cell_type": "code",
   "execution_count": 41,
   "metadata": {
    "id": "eMDvNAB7fzzp"
   },
   "outputs": [],
   "source": [
    "from sklearn.ensemble import RandomForestClassifier\n",
    "rfc = RandomForestClassifier()"
   ]
  },
  {
   "cell_type": "markdown",
   "metadata": {
    "id": "e0LmrDQYgeip"
   },
   "source": [
    "> ## Hyper-parameter tuning"
   ]
  },
  {
   "cell_type": "code",
   "execution_count": 42,
   "metadata": {
    "id": "3a4x6bdKgd9r"
   },
   "outputs": [],
   "source": [
    "params = {\n",
    "    \"criterion\": [\"gini\", \"entropy\"],\n",
    "    \"n_estimators\": [i for i in range(1, 20)]\n",
    "}\n",
    "grid_rfc = GridSearchCV(estimator=rfc, param_grid=params, scoring='accuracy', cv=3) \n",
    "grid_rfc.fit(X_train, y_train)\n",
    "rfc = grid_rfc.best_estimator_"
   ]
  },
  {
   "cell_type": "code",
   "execution_count": 43,
   "metadata": {
    "colab": {
     "base_uri": "https://localhost:8080/",
     "height": 713
    },
    "id": "vAb4aN7ugBIj",
    "outputId": "05dabe8a-f30e-405b-f871-c8009e917c15"
   },
   "outputs": [
    {
     "name": "stdout",
     "output_type": "stream",
     "text": [
      "\n",
      "Model: RandomForestClassifier(n_estimators=19)\n",
      "\n",
      "********************************************************************************\n",
      "Predicted values: [0 1 1 1 0 1 1 0 0 1 1 1 0 1 0 0 1 0 1 1 0 1 0 0]\n",
      "Actual values: [0 1 1 1 0 0 0 0 0 1 1 1 0 1 0 1 1 0 1 0 1 1 0 0]\n",
      "********************************************************************************\n",
      "--------------------------------------------------------------------------------\n",
      "Cross Validation Mean Accuracy Score: 0.7916666666666666\n",
      "accuracy score: 79.16666666666666\n",
      "recall score: 83.33333333333334\n",
      "roc score: 79.16666666666666\n",
      "--------------------------------------------------------------------------------\n",
      "\n",
      "Confusion Matrix\n",
      "\n"
     ]
    },
    {
     "data": {
      "image/png": "[encoded data removed]",
      "text/plain": [
       "<Figure size 640x480 with 2 Axes>"
      ]
     },
     "metadata": {},
     "output_type": "display_data"
    }
   ],
   "source": [
    "performance_metrics(rfc)"
   ]
  },
  {
   "cell_type": "code",
   "execution_count": 43,
   "metadata": {
    "id": "IZ_8CFh1gEDF"
   },
   "outputs": [],
   "source": []
  },
  {
   "cell_type": "markdown",
   "metadata": {
    "id": "cuRINTlDsUS7"
   },
   "source": [
    "# Getting the Best Model"
   ]
  },
  {
   "cell_type": "code",
   "execution_count": 44,
   "metadata": {
    "colab": {
     "base_uri": "https://localhost:8080/"
    },
    "id": "T266w7WxnzKB",
    "outputId": "a1b29435-7500-4190-c174-7587e08cfd3d"
   },
   "outputs": [
    {
     "data": {
      "text/plain": [
       "defaultdict(dict,\n",
       "            {'LogisticRegression': {'cv_score': 0.7917, 'acc_score': 95.8333},\n",
       "             'SVC': {'cv_score': 0.7917, 'acc_score': 100.0},\n",
       "             'KNeighborsClassifier': {'cv_score': 0.7917,\n",
       "              'acc_score': 83.3333},\n",
       "             'DecisionTreeClassifier': {'cv_score': 0.75,\n",
       "              'acc_score': 70.8333},\n",
       "             'RandomForestClassifier': {'cv_score': 0.7917,\n",
       "              'acc_score': 79.1667}})"
      ]
     },
     "execution_count": 44,
     "metadata": {},
     "output_type": "execute_result"
    }
   ],
   "source": [
    "scores"
   ]
  },
  {
   "cell_type": "code",
   "execution_count": 45,
   "metadata": {
    "colab": {
     "base_uri": "https://localhost:8080/"
    },
    "id": "G1wDUZ4ToYCv",
    "outputId": "0949f215-ebe4-47f8-c1c0-8737415470c1"
   },
   "outputs": [
    {
     "data": {
      "text/plain": [
       "{'LogisticRegression': {'cv_score': 0.7917, 'acc_score': 95.8333},\n",
       " 'SVC': {'cv_score': 0.7917, 'acc_score': 100.0},\n",
       " 'KNeighborsClassifier': {'cv_score': 0.7917, 'acc_score': 83.3333},\n",
       " 'RandomForestClassifier': {'cv_score': 0.7917, 'acc_score': 79.1667},\n",
       " 'DecisionTreeClassifier': {'cv_score': 0.75, 'acc_score': 70.8333}}"
      ]
     },
     "execution_count": 45,
     "metadata": {},
     "output_type": "execute_result"
    }
   ],
   "source": [
    "scores_sorted_by_cv = dict(sorted(scores.items(), key=lambda x: x[1][\"cv_score\"], reverse=True))\n",
    "scores_sorted_by_cv"
   ]
  },
  {
   "cell_type": "code",
   "execution_count": 46,
   "metadata": {
    "colab": {
     "base_uri": "https://localhost:8080/"
    },
    "id": "TovnS6U-pwDC",
    "outputId": "a1970339-2e3f-4b25-8271-69f143162b27"
   },
   "outputs": [
    {
     "data": {
      "text/plain": [
       "{'SVC': {'cv_score': 0.7917, 'acc_score': 100.0},\n",
       " 'LogisticRegression': {'cv_score': 0.7917, 'acc_score': 95.8333},\n",
       " 'KNeighborsClassifier': {'cv_score': 0.7917, 'acc_score': 83.3333},\n",
       " 'RandomForestClassifier': {'cv_score': 0.7917, 'acc_score': 79.1667},\n",
       " 'DecisionTreeClassifier': {'cv_score': 0.75, 'acc_score': 70.8333}}"
      ]
     },
     "execution_count": 46,
     "metadata": {},
     "output_type": "execute_result"
    }
   ],
   "source": [
    "scores_sorted_by_acc = dict(sorted(scores.items(), key=lambda x: x[1][\"acc_score\"], reverse=True))\n",
    "scores_sorted_by_acc"
   ]
  },
  {
   "cell_type": "markdown",
   "metadata": {
    "id": "aFyotYfivE8K"
   },
   "source": [
    "# Table of Results"
   ]
  },
  {
   "cell_type": "code",
   "execution_count": 47,
   "metadata": {
    "colab": {
     "base_uri": "https://localhost:8080/",
     "height": 112
    },
    "id": "BvVlmgzNrtlt",
    "outputId": "7dbca748-36b2-48cc-e463-78a107c79a56"
   },
   "outputs": [
    {
     "data": {
      "text/html": [
       "\n",
       "  <div id=\"df-fe5dbbf9-9579-427c-a83b-655f0c536f77\">\n",
       "    <div class=\"colab-df-container\">\n",
       "      <div>\n",
       "<style scoped>\n",
       "    .dataframe tbody tr th:only-of-type {\n",
       "        vertical-align: middle;\n",
       "    }\n",
       "\n",
       "    .dataframe tbody tr th {\n",
       "        vertical-align: top;\n",
       "    }\n",
       "\n",
       "    .dataframe thead th {\n",
       "        text-align: right;\n",
       "    }\n",
       "</style>\n",
       "<table border=\"1\" class=\"dataframe\">\n",
       "  <thead>\n",
       "    <tr style=\"text-align: right;\">\n",
       "      <th></th>\n",
       "      <th>LogisticRegression</th>\n",
       "      <th>SVC</th>\n",
       "      <th>KNeighborsClassifier</th>\n",
       "      <th>DecisionTreeClassifier</th>\n",
       "      <th>RandomForestClassifier</th>\n",
       "    </tr>\n",
       "  </thead>\n",
       "  <tbody>\n",
       "    <tr>\n",
       "      <th>cv_score</th>\n",
       "      <td>0.7917</td>\n",
       "      <td>0.7917</td>\n",
       "      <td>0.7917</td>\n",
       "      <td>0.7500</td>\n",
       "      <td>0.7917</td>\n",
       "    </tr>\n",
       "    <tr>\n",
       "      <th>acc_score</th>\n",
       "      <td>95.8333</td>\n",
       "      <td>100.0000</td>\n",
       "      <td>83.3333</td>\n",
       "      <td>70.8333</td>\n",
       "      <td>79.1667</td>\n",
       "    </tr>\n",
       "  </tbody>\n",
       "</table>\n",
       "</div>\n",
       "      <button class=\"colab-df-convert\" onclick=\"convertToInteractive('df-fe5dbbf9-9579-427c-a83b-655f0c536f77')\"\n",
       "              title=\"Convert this dataframe to an interactive table.\"\n",
       "              style=\"display:none;\">\n",
       "        \n",
       "  <svg xmlns=\"http://www.w3.org/2000/svg\" height=\"24px\"viewBox=\"0 0 24 24\"\n",
       "       width=\"24px\">\n",
       "    <path d=\"M0 0h24v24H0V0z\" fill=\"none\"/>\n",
       "    <path d=\"M18.56 5.44l.94 2.06.94-2.06 2.06-.94-2.06-.94-.94-2.06-.94 2.06-2.06.94zm-11 1L8.5 8.5l.94-2.06 2.06-.94-2.06-.94L8.5 2.5l-.94 2.06-2.06.94zm10 10l.94 2.06.94-2.06 2.06-.94-2.06-.94-.94-2.06-.94 2.06-2.06.94z\"/><path d=\"M17.41 7.96l-1.37-1.37c-.4-.4-.92-.59-1.43-.59-.52 0-1.04.2-1.43.59L10.3 9.45l-7.72 7.72c-.78.78-.78 2.05 0 2.83L4 21.41c.39.39.9.59 1.41.59.51 0 1.02-.2 1.41-.59l7.78-7.78 2.81-2.81c.8-.78.8-2.07 0-2.86zM5.41 20L4 18.59l7.72-7.72 1.47 1.35L5.41 20z\"/>\n",
       "  </svg>\n",
       "      </button>\n",
       "      \n",
       "  <style>\n",
       "    .colab-df-container {\n",
       "      display:flex;\n",
       "      flex-wrap:wrap;\n",
       "      gap: 12px;\n",
       "    }\n",
       "\n",
       "    .colab-df-convert {\n",
       "      background-color: #E8F0FE;\n",
       "      border: none;\n",
       "      border-radius: 50%;\n",
       "      cursor: pointer;\n",
       "      display: none;\n",
       "      fill: #1967D2;\n",
       "      height: 32px;\n",
       "      padding: 0 0 0 0;\n",
       "      width: 32px;\n",
       "    }\n",
       "\n",
       "    .colab-df-convert:hover {\n",
       "      background-color: #E2EBFA;\n",
       "      box-shadow: 0px 1px 2px rgba(60, 64, 67, 0.3), 0px 1px 3px 1px rgba(60, 64, 67, 0.15);\n",
       "      fill: #174EA6;\n",
       "    }\n",
       "\n",
       "    [theme=dark] .colab-df-convert {\n",
       "      background-color: #3B4455;\n",
       "      fill: #D2E3FC;\n",
       "    }\n",
       "\n",
       "    [theme=dark] .colab-df-convert:hover {\n",
       "      background-color: #434B5C;\n",
       "      box-shadow: 0px 1px 3px 1px rgba(0, 0, 0, 0.15);\n",
       "      filter: drop-shadow(0px 1px 2px rgba(0, 0, 0, 0.3));\n",
       "      fill: #FFFFFF;\n",
       "    }\n",
       "  </style>\n",
       "\n",
       "      <script>\n",
       "        const buttonEl =\n",
       "          document.querySelector('#df-fe5dbbf9-9579-427c-a83b-655f0c536f77 button.colab-df-convert');\n",
       "        buttonEl.style.display =\n",
       "          google.colab.kernel.accessAllowed ? 'block' : 'none';\n",
       "\n",
       "        async function convertToInteractive(key) {\n",
       "          const element = document.querySelector('#df-fe5dbbf9-9579-427c-a83b-655f0c536f77');\n",
       "          const dataTable =\n",
       "            await google.colab.kernel.invokeFunction('convertToInteractive',\n",
       "                                                     [key], {});\n",
       "          if (!dataTable) return;\n",
       "\n",
       "          const docLinkHtml = 'Like what you see? Visit the ' +\n",
       "            '<a target=\"_blank\" href=https://colab.research.google.com/notebooks/data_table.ipynb>data table notebook</a>'\n",
       "            + ' to learn more about interactive tables.';\n",
       "          element.innerHTML = '';\n",
       "          dataTable['output_type'] = 'display_data';\n",
       "          await google.colab.output.renderOutput(dataTable, element);\n",
       "          const docLink = document.createElement('div');\n",
       "          docLink.innerHTML = docLinkHtml;\n",
       "          element.appendChild(docLink);\n",
       "        }\n",
       "      </script>\n",
       "    </div>\n",
       "  </div>\n",
       "  "
      ],
      "text/plain": [
       "           LogisticRegression       SVC  KNeighborsClassifier  \\\n",
       "cv_score               0.7917    0.7917                0.7917   \n",
       "acc_score             95.8333  100.0000               83.3333   \n",
       "\n",
       "           DecisionTreeClassifier  RandomForestClassifier  \n",
       "cv_score                   0.7500                  0.7917  \n",
       "acc_score                 70.8333                 79.1667  "
      ]
     },
     "execution_count": 47,
     "metadata": {},
     "output_type": "execute_result"
    }
   ],
   "source": [
    "scores_df = pd.DataFrame(scores)\n",
    "scores_df"
   ]
  },
  {
   "cell_type": "code",
   "execution_count": 47,
   "metadata": {
    "id": "g7cGMrIlsMR2"
   },
   "outputs": [],
   "source": []
  },
  {
   "cell_type": "code",
   "execution_count": 48,
   "metadata": {
    "id": "xvpqzvIpuOjd"
   },
   "outputs": [],
   "source": [
    "models = scores.keys()\n",
    "acc_scores = []\n",
    "cv_scores = []\n",
    "\n",
    "for value in scores.values():\n",
    "  cv_scores.append(value[\"cv_score\"])\n",
    "  acc_scores.append(value[\"acc_score\"])"
   ]
  },
  {
   "cell_type": "code",
   "execution_count": 49,
   "metadata": {
    "colab": {
     "base_uri": "https://localhost:8080/",
     "height": 206
    },
    "id": "Exw32a95tHAv",
    "outputId": "9d20b1f8-1e97-4b2f-c010-8d79d60826cf"
   },
   "outputs": [
    {
     "data": {
      "text/html": [
       "\n",
       "  <div id=\"df-ca1408f4-0a67-46c9-b16b-942d2d3121e1\">\n",
       "    <div class=\"colab-df-container\">\n",
       "      <div>\n",
       "<style scoped>\n",
       "    .dataframe tbody tr th:only-of-type {\n",
       "        vertical-align: middle;\n",
       "    }\n",
       "\n",
       "    .dataframe tbody tr th {\n",
       "        vertical-align: top;\n",
       "    }\n",
       "\n",
       "    .dataframe thead th {\n",
       "        text-align: right;\n",
       "    }\n",
       "</style>\n",
       "<table border=\"1\" class=\"dataframe\">\n",
       "  <thead>\n",
       "    <tr style=\"text-align: right;\">\n",
       "      <th></th>\n",
       "      <th>Model</th>\n",
       "      <th>Acc_Score</th>\n",
       "    </tr>\n",
       "  </thead>\n",
       "  <tbody>\n",
       "    <tr>\n",
       "      <th>0</th>\n",
       "      <td>LogisticRegression</td>\n",
       "      <td>95.8333</td>\n",
       "    </tr>\n",
       "    <tr>\n",
       "      <th>1</th>\n",
       "      <td>SVC</td>\n",
       "      <td>100.0000</td>\n",
       "    </tr>\n",
       "    <tr>\n",
       "      <th>2</th>\n",
       "      <td>KNeighborsClassifier</td>\n",
       "      <td>83.3333</td>\n",
       "    </tr>\n",
       "    <tr>\n",
       "      <th>3</th>\n",
       "      <td>DecisionTreeClassifier</td>\n",
       "      <td>70.8333</td>\n",
       "    </tr>\n",
       "    <tr>\n",
       "      <th>4</th>\n",
       "      <td>RandomForestClassifier</td>\n",
       "      <td>79.1667</td>\n",
       "    </tr>\n",
       "  </tbody>\n",
       "</table>\n",
       "</div>\n",
       "      <button class=\"colab-df-convert\" onclick=\"convertToInteractive('df-ca1408f4-0a67-46c9-b16b-942d2d3121e1')\"\n",
       "              title=\"Convert this dataframe to an interactive table.\"\n",
       "              style=\"display:none;\">\n",
       "        \n",
       "  <svg xmlns=\"http://www.w3.org/2000/svg\" height=\"24px\"viewBox=\"0 0 24 24\"\n",
       "       width=\"24px\">\n",
       "    <path d=\"M0 0h24v24H0V0z\" fill=\"none\"/>\n",
       "    <path d=\"M18.56 5.44l.94 2.06.94-2.06 2.06-.94-2.06-.94-.94-2.06-.94 2.06-2.06.94zm-11 1L8.5 8.5l.94-2.06 2.06-.94-2.06-.94L8.5 2.5l-.94 2.06-2.06.94zm10 10l.94 2.06.94-2.06 2.06-.94-2.06-.94-.94-2.06-.94 2.06-2.06.94z\"/><path d=\"M17.41 7.96l-1.37-1.37c-.4-.4-.92-.59-1.43-.59-.52 0-1.04.2-1.43.59L10.3 9.45l-7.72 7.72c-.78.78-.78 2.05 0 2.83L4 21.41c.39.39.9.59 1.41.59.51 0 1.02-.2 1.41-.59l7.78-7.78 2.81-2.81c.8-.78.8-2.07 0-2.86zM5.41 20L4 18.59l7.72-7.72 1.47 1.35L5.41 20z\"/>\n",
       "  </svg>\n",
       "      </button>\n",
       "      \n",
       "  <style>\n",
       "    .colab-df-container {\n",
       "      display:flex;\n",
       "      flex-wrap:wrap;\n",
       "      gap: 12px;\n",
       "    }\n",
       "\n",
       "    .colab-df-convert {\n",
       "      background-color: #E8F0FE;\n",
       "      border: none;\n",
       "      border-radius: 50%;\n",
       "      cursor: pointer;\n",
       "      display: none;\n",
       "      fill: #1967D2;\n",
       "      height: 32px;\n",
       "      padding: 0 0 0 0;\n",
       "      width: 32px;\n",
       "    }\n",
       "\n",
       "    .colab-df-convert:hover {\n",
       "      background-color: #E2EBFA;\n",
       "      box-shadow: 0px 1px 2px rgba(60, 64, 67, 0.3), 0px 1px 3px 1px rgba(60, 64, 67, 0.15);\n",
       "      fill: #174EA6;\n",
       "    }\n",
       "\n",
       "    [theme=dark] .colab-df-convert {\n",
       "      background-color: #3B4455;\n",
       "      fill: #D2E3FC;\n",
       "    }\n",
       "\n",
       "    [theme=dark] .colab-df-convert:hover {\n",
       "      background-color: #434B5C;\n",
       "      box-shadow: 0px 1px 3px 1px rgba(0, 0, 0, 0.15);\n",
       "      filter: drop-shadow(0px 1px 2px rgba(0, 0, 0, 0.3));\n",
       "      fill: #FFFFFF;\n",
       "    }\n",
       "  </style>\n",
       "\n",
       "      <script>\n",
       "        const buttonEl =\n",
       "          document.querySelector('#df-ca1408f4-0a67-46c9-b16b-942d2d3121e1 button.colab-df-convert');\n",
       "        buttonEl.style.display =\n",
       "          google.colab.kernel.accessAllowed ? 'block' : 'none';\n",
       "\n",
       "        async function convertToInteractive(key) {\n",
       "          const element = document.querySelector('#df-ca1408f4-0a67-46c9-b16b-942d2d3121e1');\n",
       "          const dataTable =\n",
       "            await google.colab.kernel.invokeFunction('convertToInteractive',\n",
       "                                                     [key], {});\n",
       "          if (!dataTable) return;\n",
       "\n",
       "          const docLinkHtml = 'Like what you see? Visit the ' +\n",
       "            '<a target=\"_blank\" href=https://colab.research.google.com/notebooks/data_table.ipynb>data table notebook</a>'\n",
       "            + ' to learn more about interactive tables.';\n",
       "          element.innerHTML = '';\n",
       "          dataTable['output_type'] = 'display_data';\n",
       "          await google.colab.output.renderOutput(dataTable, element);\n",
       "          const docLink = document.createElement('div');\n",
       "          docLink.innerHTML = docLinkHtml;\n",
       "          element.appendChild(docLink);\n",
       "        }\n",
       "      </script>\n",
       "    </div>\n",
       "  </div>\n",
       "  "
      ],
      "text/plain": [
       "                    Model  Acc_Score\n",
       "0      LogisticRegression    95.8333\n",
       "1                     SVC   100.0000\n",
       "2    KNeighborsClassifier    83.3333\n",
       "3  DecisionTreeClassifier    70.8333\n",
       "4  RandomForestClassifier    79.1667"
      ]
     },
     "execution_count": 49,
     "metadata": {},
     "output_type": "execute_result"
    }
   ],
   "source": [
    "acc_df = pd.DataFrame({'Model': models, 'Acc_Score': acc_scores})\n",
    "acc_df"
   ]
  },
  {
   "cell_type": "code",
   "execution_count": 50,
   "metadata": {
    "colab": {
     "base_uri": "https://localhost:8080/",
     "height": 206
    },
    "id": "H-xQ7kt4vkD6",
    "outputId": "9c1fd947-827a-410e-a9cb-b5cfc22be628"
   },
   "outputs": [
    {
     "data": {
      "text/html": [
       "\n",
       "  <div id=\"df-783508d0-0983-45c4-a5e4-4e51f9ac85b8\">\n",
       "    <div class=\"colab-df-container\">\n",
       "      <div>\n",
       "<style scoped>\n",
       "    .dataframe tbody tr th:only-of-type {\n",
       "        vertical-align: middle;\n",
       "    }\n",
       "\n",
       "    .dataframe tbody tr th {\n",
       "        vertical-align: top;\n",
       "    }\n",
       "\n",
       "    .dataframe thead th {\n",
       "        text-align: right;\n",
       "    }\n",
       "</style>\n",
       "<table border=\"1\" class=\"dataframe\">\n",
       "  <thead>\n",
       "    <tr style=\"text-align: right;\">\n",
       "      <th></th>\n",
       "      <th>Model</th>\n",
       "      <th>CV_Score</th>\n",
       "    </tr>\n",
       "  </thead>\n",
       "  <tbody>\n",
       "    <tr>\n",
       "      <th>0</th>\n",
       "      <td>LogisticRegression</td>\n",
       "      <td>0.7917</td>\n",
       "    </tr>\n",
       "    <tr>\n",
       "      <th>1</th>\n",
       "      <td>SVC</td>\n",
       "      <td>0.7917</td>\n",
       "    </tr>\n",
       "    <tr>\n",
       "      <th>2</th>\n",
       "      <td>KNeighborsClassifier</td>\n",
       "      <td>0.7917</td>\n",
       "    </tr>\n",
       "    <tr>\n",
       "      <th>3</th>\n",
       "      <td>DecisionTreeClassifier</td>\n",
       "      <td>0.7500</td>\n",
       "    </tr>\n",
       "    <tr>\n",
       "      <th>4</th>\n",
       "      <td>RandomForestClassifier</td>\n",
       "      <td>0.7917</td>\n",
       "    </tr>\n",
       "  </tbody>\n",
       "</table>\n",
       "</div>\n",
       "      <button class=\"colab-df-convert\" onclick=\"convertToInteractive('df-783508d0-0983-45c4-a5e4-4e51f9ac85b8')\"\n",
       "              title=\"Convert this dataframe to an interactive table.\"\n",
       "              style=\"display:none;\">\n",
       "        \n",
       "  <svg xmlns=\"http://www.w3.org/2000/svg\" height=\"24px\"viewBox=\"0 0 24 24\"\n",
       "       width=\"24px\">\n",
       "    <path d=\"M0 0h24v24H0V0z\" fill=\"none\"/>\n",
       "    <path d=\"M18.56 5.44l.94 2.06.94-2.06 2.06-.94-2.06-.94-.94-2.06-.94 2.06-2.06.94zm-11 1L8.5 8.5l.94-2.06 2.06-.94-2.06-.94L8.5 2.5l-.94 2.06-2.06.94zm10 10l.94 2.06.94-2.06 2.06-.94-2.06-.94-.94-2.06-.94 2.06-2.06.94z\"/><path d=\"M17.41 7.96l-1.37-1.37c-.4-.4-.92-.59-1.43-.59-.52 0-1.04.2-1.43.59L10.3 9.45l-7.72 7.72c-.78.78-.78 2.05 0 2.83L4 21.41c.39.39.9.59 1.41.59.51 0 1.02-.2 1.41-.59l7.78-7.78 2.81-2.81c.8-.78.8-2.07 0-2.86zM5.41 20L4 18.59l7.72-7.72 1.47 1.35L5.41 20z\"/>\n",
       "  </svg>\n",
       "      </button>\n",
       "      \n",
       "  <style>\n",
       "    .colab-df-container {\n",
       "      display:flex;\n",
       "      flex-wrap:wrap;\n",
       "      gap: 12px;\n",
       "    }\n",
       "\n",
       "    .colab-df-convert {\n",
       "      background-color: #E8F0FE;\n",
       "      border: none;\n",
       "      border-radius: 50%;\n",
       "      cursor: pointer;\n",
       "      display: none;\n",
       "      fill: #1967D2;\n",
       "      height: 32px;\n",
       "      padding: 0 0 0 0;\n",
       "      width: 32px;\n",
       "    }\n",
       "\n",
       "    .colab-df-convert:hover {\n",
       "      background-color: #E2EBFA;\n",
       "      box-shadow: 0px 1px 2px rgba(60, 64, 67, 0.3), 0px 1px 3px 1px rgba(60, 64, 67, 0.15);\n",
       "      fill: #174EA6;\n",
       "    }\n",
       "\n",
       "    [theme=dark] .colab-df-convert {\n",
       "      background-color: #3B4455;\n",
       "      fill: #D2E3FC;\n",
       "    }\n",
       "\n",
       "    [theme=dark] .colab-df-convert:hover {\n",
       "      background-color: #434B5C;\n",
       "      box-shadow: 0px 1px 3px 1px rgba(0, 0, 0, 0.15);\n",
       "      filter: drop-shadow(0px 1px 2px rgba(0, 0, 0, 0.3));\n",
       "      fill: #FFFFFF;\n",
       "    }\n",
       "  </style>\n",
       "\n",
       "      <script>\n",
       "        const buttonEl =\n",
       "          document.querySelector('#df-783508d0-0983-45c4-a5e4-4e51f9ac85b8 button.colab-df-convert');\n",
       "        buttonEl.style.display =\n",
       "          google.colab.kernel.accessAllowed ? 'block' : 'none';\n",
       "\n",
       "        async function convertToInteractive(key) {\n",
       "          const element = document.querySelector('#df-783508d0-0983-45c4-a5e4-4e51f9ac85b8');\n",
       "          const dataTable =\n",
       "            await google.colab.kernel.invokeFunction('convertToInteractive',\n",
       "                                                     [key], {});\n",
       "          if (!dataTable) return;\n",
       "\n",
       "          const docLinkHtml = 'Like what you see? Visit the ' +\n",
       "            '<a target=\"_blank\" href=https://colab.research.google.com/notebooks/data_table.ipynb>data table notebook</a>'\n",
       "            + ' to learn more about interactive tables.';\n",
       "          element.innerHTML = '';\n",
       "          dataTable['output_type'] = 'display_data';\n",
       "          await google.colab.output.renderOutput(dataTable, element);\n",
       "          const docLink = document.createElement('div');\n",
       "          docLink.innerHTML = docLinkHtml;\n",
       "          element.appendChild(docLink);\n",
       "        }\n",
       "      </script>\n",
       "    </div>\n",
       "  </div>\n",
       "  "
      ],
      "text/plain": [
       "                    Model  CV_Score\n",
       "0      LogisticRegression    0.7917\n",
       "1                     SVC    0.7917\n",
       "2    KNeighborsClassifier    0.7917\n",
       "3  DecisionTreeClassifier    0.7500\n",
       "4  RandomForestClassifier    0.7917"
      ]
     },
     "execution_count": 50,
     "metadata": {},
     "output_type": "execute_result"
    }
   ],
   "source": [
    "cv_df = pd.DataFrame({'Model': models, 'CV_Score': cv_scores})\n",
    "cv_df"
   ]
  },
  {
   "cell_type": "markdown",
   "metadata": {
    "id": "_qIpU2TCtMQw"
   },
   "source": [
    "# Plot of the models' accuracy scores"
   ]
  },
  {
   "cell_type": "code",
   "execution_count": 51,
   "metadata": {
    "colab": {
     "base_uri": "https://localhost:8080/",
     "height": 621
    },
    "id": "2Onh5_g4spcK",
    "outputId": "de27f38a-cd65-4095-e1c5-7cb3f6ae0354"
   },
   "outputs": [
    {
     "data": {
      "image/png": "[encoded data removed]",
      "text/plain": [
       "<Figure size 640x480 with 1 Axes>"
      ]
     },
     "metadata": {},
     "output_type": "display_data"
    }
   ],
   "source": [
    "ax = sns.barplot(x = 'Model', y = 'Acc_Score', data=acc_df)\n",
    "ax.set_title(\"Accuracy Scores for the Corresponding Models\")\n",
    "ax.set_xticklabels(models, rotation=90)\n",
    "plt.show()"
   ]
  },
  {
   "cell_type": "markdown",
   "metadata": {
    "id": "K9iuKbMmx2u6"
   },
   "source": [
    "# Plot of the models' cross validation scores"
   ]
  },
  {
   "cell_type": "code",
   "execution_count": 52,
   "metadata": {
    "colab": {
     "base_uri": "https://localhost:8080/",
     "height": 621
    },
    "id": "Eslej22PtSap",
    "outputId": "b472e331-02a8-4e18-8d62-4e7f30b9d2b5"
   },
   "outputs": [
    {
     "data": {
      "image/png": "[encoded data removed]",
      "text/plain": [
       "<Figure size 640x480 with 1 Axes>"
      ]
     },
     "metadata": {},
     "output_type": "display_data"
    }
   ],
   "source": [
    "ax = sns.barplot(x = 'Model', y = 'CV_Score', data=cv_df)\n",
    "ax.set_title(\"Cross Validation Scores for the Corresponding Models\")\n",
    "ax.set_xticklabels(models, rotation=90)\n",
    "plt.show()"
   ]
  },
  {
   "cell_type": "markdown",
   "metadata": {
    "id": "PXpF06cd4dSb"
   },
   "source": [
    "# Determining the best model"
   ]
  },
  {
   "cell_type": "code",
   "execution_count": 53,
   "metadata": {
    "id": "6styIvUVycZV"
   },
   "outputs": [],
   "source": [
    "best_model_key = list(scores_sorted_by_cv.keys())[0]"
   ]
  },
  {
   "cell_type": "code",
   "execution_count": 54,
   "metadata": {
    "id": "u9D4i8Mo5s6m"
   },
   "outputs": [],
   "source": [
    "models_dict = {\n",
    "    'SVC': svc,\n",
    "    'DecisionTreeClassifier': dtc,\n",
    "    'RandomForestClassifier': rfc,\n",
    "    'LogisticRegression': lr,\n",
    "    'KNeighborsClassifier': knn\n",
    "}"
   ]
  },
  {
   "cell_type": "code",
   "execution_count": 55,
   "metadata": {
    "id": "lCqJEqWg52nw"
   },
   "outputs": [],
   "source": [
    "best_model = models_dict[best_model_key]"
   ]
  },
  {
   "cell_type": "markdown",
   "metadata": {
    "id": "MNNS4PLw8dpu"
   },
   "source": [
    "# Saving the best model"
   ]
  },
  {
   "cell_type": "code",
   "execution_count": 56,
   "metadata": {
    "colab": {
     "base_uri": "https://localhost:8080/"
    },
    "id": "2ONSPwtuFiBo",
    "outputId": "d27e8590-bb6c-40c8-92d3-a177e6e054c0"
   },
   "outputs": [
    {
     "name": "stdout",
     "output_type": "stream",
     "text": [
      "Drive already mounted at /content/gdrive; to attempt to forcibly remount, call drive.mount(\"/content/gdrive\", force_remount=True).\n"
     ]
    }
   ],
   "source": [
    "from google.colab import drive\n",
    "drive.mount(\"/content/gdrive\")"
   ]
  },
  {
   "cell_type": "code",
   "execution_count": 57,
   "metadata": {
    "id": "rhvWPPwnFnFy"
   },
   "outputs": [],
   "source": [
    "# !ls /content/gdrive/MyDrive"
   ]
  },
  {
   "cell_type": "code",
   "execution_count": 59,
   "metadata": {
    "id": "rDclRXYt66Bt"
   },
   "outputs": [],
   "source": [
    "if not os.path.exists(save_dir):\n",
    "  os.makedirs(save_dir)"
   ]
  },
  {
   "cell_type": "code",
   "execution_count": 60,
   "metadata": {
    "id": "kK5-mbnt86YJ"
   },
   "outputs": [],
   "source": [
    "with open(os.path.join(save_dir, \"best_model.pkl\"), 'wb') as pickle_file:\n",
    "  pickle.dump(best_model, pickle_file)"
   ]
  },
  {
   "cell_type": "markdown",
   "metadata": {
    "id": "JxfW0JzW-J-O"
   },
   "source": [
    "# Loaded the saved model"
   ]
  },
  {
   "cell_type": "code",
   "execution_count": 61,
   "metadata": {
    "id": "_j58hheN9Rzn"
   },
   "outputs": [],
   "source": [
    "with open(os.path.join(save_dir, \"best_model.pkl\"), 'rb') as pickle_file:\n",
    "  loaded_model = pickle.load(pickle_file)"
   ]
  },
  {
   "cell_type": "code",
   "execution_count": 62,
   "metadata": {
    "colab": {
     "base_uri": "https://localhost:8080/"
    },
    "id": "oTbz5vq99sP7",
    "outputId": "ac24da53-adaf-4eac-c6c6-aefee38086fd"
   },
   "outputs": [
    {
     "data": {
      "text/plain": [
       "0"
      ]
     },
     "execution_count": 62,
     "metadata": {},
     "output_type": "execute_result"
    }
   ],
   "source": [
    "loaded_model.predict(X_test[0].reshape(1, -1))[0]"
   ]
  },
  {
   "cell_type": "code",
   "execution_count": 63,
   "metadata": {
    "id": "wePJ1RRiS_Ej"
   },
   "outputs": [],
   "source": [
    "# arr = np.array([1, 11, 2, 3, 4, 5, 6, 7, 8, 9, 10, 1])\n",
    "arr = np.array([28.7, 44.7, 51.6, 160.0, 174.7, 824.6, 743.0, 357.5, 197.7, 266.9, 350.8, 48.4])"
   ]
  },
  {
   "cell_type": "code",
   "execution_count": 64,
   "metadata": {
    "colab": {
     "base_uri": "https://localhost:8080/"
    },
    "id": "RW0_nIESF7OJ",
    "outputId": "d6e6ca52-f313-4d49-dd54-b8c26eed2399"
   },
   "outputs": [
    {
     "data": {
      "text/plain": [
       "array([[0.34371257, 0.56582278, 0.23721787, 0.65317919, 0.17697695,\n",
       "        0.69647215, 0.42347314, 0.14660329, 0.32220849, 0.39727673,\n",
       "        0.95570189, 0.2388724 ]])"
      ]
     },
     "execution_count": 64,
     "metadata": {},
     "output_type": "execute_result"
    }
   ],
   "source": [
    "scaled_arr = scaler.transform(arr.reshape(1, -1))\n",
    "scaled_arr"
   ]
  },
  {
   "cell_type": "code",
   "execution_count": 66,
   "metadata": {
    "colab": {
     "base_uri": "https://localhost:8080/"
    },
    "id": "wCox5RAn77pG",
    "outputId": "63456fa0-baed-4258-e322-3604f59bd8ec"
   },
   "outputs": [
    {
     "data": {
      "text/plain": [
       "1"
      ]
     },
     "execution_count": 66,
     "metadata": {},
     "output_type": "execute_result"
    }
   ],
   "source": [
    "loaded_model.predict(scaled_arr.reshape(1, -1))[0]"
   ]
  },
  {
   "cell_type": "code",
   "execution_count": null,
   "metadata": {
    "id": "c5cUHDLoNpJH"
   },
   "outputs": [],
   "source": []
  }
 ],
 "metadata": {
  "colab": {
   "provenance": []
  },
  "kernelspec": {
   "display_name": "Python 3 (ipykernel)",
   "language": "python",
   "name": "python3"
  },
  "language_info": {
   "codemirror_mode": {
    "name": "ipython",
    "version": 3
   },
   "file_extension": ".py",
   "mimetype": "text/x-python",
   "name": "python",
   "nbconvert_exporter": "python",
   "pygments_lexer": "ipython3",
   "version": "3.11.4"
  }
 },
 "nbformat": 4,
 "nbformat_minor": 1
}
